{
 "cells": [
  {
   "cell_type": "code",
   "execution_count": 3,
   "metadata": {},
   "outputs": [
    {
     "name": "stdout",
     "output_type": "stream",
     "text": [
      "[14  5]\n",
      "[8 7]\n",
      "The area of Triangle is : 29.0\n"
     ]
    }
   ],
   "source": [
    "import numpy as np\n",
    "#Vertices\n",
    "a =[5,2]\n",
    "a1 = np.array(a)\n",
    "b = [-9,-3]\n",
    "b1 =np.array(b)\n",
    "c =[-3,-5]\n",
    "c1= np.array(c)\n",
    "\n",
    "#Calculate side from vertices\n",
    "side_ab =a1-b1\n",
    "print(side_ab)\n",
    "side_ac =a1-c1\n",
    "print(side_ac)\n",
    "\n",
    "#Finding Area by Vector Method:\n",
    "Area=0.5*np.cross(side_ab,side_ac)\n",
    "print(\"The area of Triangle is :\",Area)\n"
   ]
  },
  {
   "cell_type": "code",
   "execution_count": null,
   "metadata": {},
   "outputs": [],
   "source": []
  }
 ],
 "metadata": {
  "kernelspec": {
   "display_name": "Python 3",
   "language": "python",
   "name": "python3"
  },
  "language_info": {
   "codemirror_mode": {
    "name": "ipython",
    "version": 3
   },
   "file_extension": ".py",
   "mimetype": "text/x-python",
   "name": "python",
   "nbconvert_exporter": "python",
   "pygments_lexer": "ipython3",
   "version": "3.8.5"
  }
 },
 "nbformat": 4,
 "nbformat_minor": 4
}
