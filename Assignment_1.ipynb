{
 "cells": [
  {
   "cell_type": "code",
   "execution_count": 1,
   "id": "0218c7ea",
   "metadata": {},
   "outputs": [
    {
     "name": "stdout",
     "output_type": "stream",
     "text": [
      "[-14  -5]\n",
      "[-8 -7]\n",
      "The area of Triangle is : 29.0\n"
     ]
    }
   ],
   "source": [
    "import numpy as np\n",
    "#Vertices\n",
    "p =[5,2]\n",
    "p1 = np.array(p)\n",
    "q = [-9,-3]\n",
    "q1 =np.array(q)\n",
    "r =[-3,-5]\n",
    "r1= np.array(r)\n",
    "\n",
    "#Calculate side from vertices\n",
    "vector_qp =q1-p1\n",
    "print(vector_qp)\n",
    "vector_rp =r1-p1\n",
    "print(vector_rp)\n",
    "\n",
    "#Finding Area by Vector Method:\n",
    "Area=0.5*np.cross(vector_qp,vector_rp)\n",
    "print(\"The area of Triangle is :\",Area)"
   ]
  },
  {
   "cell_type": "code",
   "execution_count": 2,
   "id": "488a9caa",
   "metadata": {},
   "outputs": [
    {
     "data": {
      "image/png": "[encoded data removed]",
      "text/plain": [
       "<Figure size 432x288 with 1 Axes>"
      ]
     },
     "metadata": {
      "needs_background": "light"
     },
     "output_type": "display_data"
    }
   ],
   "source": [
    "import matplotlib.pyplot as plt\n",
    "fig =plt.figure\n",
    "s=[0,0]\n",
    "# x vector contains x1,x2,x3 \n",
    "x = np.array([5,-9,-3])\n",
    "\n",
    "# y vector contains y1,y2,y3 \n",
    "y=np.array([2,-3,-5])\n",
    "\n",
    "# Shifting the 'P' coordinate (1,3) to origin\n",
    "\n",
    "x = x - 5\n",
    "y = y - 2\n",
    "\n",
    "coord = ['P','Q','R']\n",
    "\n",
    "plt.quiver([0, 0], [0, 0],[-14,  -8], [-5, -7],color=['y','g'], angles='xy', scale_units='xy', scale=1)\n",
    "plt.xlim(-15, 10)\n",
    "plt.ylim(-15, 10)\n",
    "\n",
    "plt.scatter([0,-14, -8], [0, -5, -7],color='b')\n",
    "\n",
    "for i in range(3):\n",
    "  plt.text(x[i],y[i]-1.2,'{}({},{})'.format(coord[i],x[i],y[i]))\n",
    "\n",
    "plt.text(-7,-1.5,'Q-P')\n",
    "plt.text(-5,-6,'R-P')\n",
    "\n",
    "plt.title('Vector Representation')\n",
    "plt.xlabel('x')\n",
    "plt.ylabel('y')\n",
    "\n",
    "plt.grid()\n",
    "plt.show()"
   ]
  },
  {
   "cell_type": "code",
   "execution_count": null,
   "id": "9b3f42ab",
   "metadata": {},
   "outputs": [],
   "source": []
  }
 ],
 "metadata": {
  "kernelspec": {
   "display_name": "Python 3",
   "language": "python",
   "name": "python3"
  },
  "language_info": {
   "codemirror_mode": {
    "name": "ipython",
    "version": 3
   },
   "file_extension": ".py",
   "mimetype": "text/x-python",
   "name": "python",
   "nbconvert_exporter": "python",
   "pygments_lexer": "ipython3",
   "version": "3.8.8"
  }
 },
 "nbformat": 4,
 "nbformat_minor": 5
}
