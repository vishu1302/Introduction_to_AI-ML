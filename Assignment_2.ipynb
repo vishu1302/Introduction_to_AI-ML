{
 "cells": [
  {
   "cell_type": "code",
   "execution_count": 13,
   "id": "ff3a8e31",
   "metadata": {},
   "outputs": [
    {
     "name": "stdout",
     "output_type": "stream",
     "text": [
      "13.228756555322953\n"
     ]
    }
   ],
   "source": [
    "import numpy as np\n",
    "import math\n",
    "\n",
    "#defining vectors\n",
    "P = np.array([np.cos(math.pi/2) , np.sin(math.pi/2)])\n",
    "Q = np.array([3*np.cos(math.pi/6) , 3*np.sin(math.pi/6)])\n",
    "\n",
    "#function for finding distance\n",
    "def distance(a):\n",
    "    return a*math.sqrt(np.square(P-Q).sum())\n",
    "Dist=distance(5)\n",
    "print(Dist)\n"
   ]
  },
  {
   "cell_type": "code",
   "execution_count": null,
   "id": "a1da2454",
   "metadata": {},
   "outputs": [],
   "source": []
  }
 ],
 "metadata": {
  "kernelspec": {
   "display_name": "Python 3",
   "language": "python",
   "name": "python3"
  },
  "language_info": {
   "codemirror_mode": {
    "name": "ipython",
    "version": 3
   },
   "file_extension": ".py",
   "mimetype": "text/x-python",
   "name": "python",
   "nbconvert_exporter": "python",
   "pygments_lexer": "ipython3",
   "version": "3.8.8"
  }
 },
 "nbformat": 4,
 "nbformat_minor": 5
}
